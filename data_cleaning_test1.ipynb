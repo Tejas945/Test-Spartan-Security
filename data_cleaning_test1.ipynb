{
 "cells": [
  {
   "cell_type": "code",
   "execution_count": 16,
   "metadata": {},
   "outputs": [],
   "source": [
    "import pandas as pd\n",
    "import numpy as np\n",
    "import matplotlib.pyplot as plt\n",
    "import seaborn as sns\n",
    "\n",
    "df = pd.read_csv('policecalls2019.csv', usecols=[6,7,8,9]) #print the columns\n",
    "#print(df['COMMON_PLACE_NAME'])\n",
    "#print(df['COMMON_PLACE_NAME'].isnull())\n",
    "\n"
   ]
  },
  {
   "cell_type": "code",
   "execution_count": 17,
   "metadata": {},
   "outputs": [
    {
     "data": {
      "text/plain": [
       "RangeIndex(start=0, stop=305487, step=1)"
      ]
     },
     "execution_count": 17,
     "metadata": {},
     "output_type": "execute_result"
    }
   ],
   "source": [
    "df.index"
   ]
  },
  {
   "cell_type": "code",
   "execution_count": 18,
   "metadata": {},
   "outputs": [
    {
     "data": {
      "text/plain": [
       "OFFENSE_DATE     1/11/2019 12:00:00 AM\n",
       "OFFENSE_TIME                  13:43:45\n",
       "CALLTYPE_CODE                     415A\n",
       "CALL_TYPE           DISTURBANCE, FIGHT\n",
       "Name: 0, dtype: object"
      ]
     },
     "execution_count": 18,
     "metadata": {},
     "output_type": "execute_result"
    }
   ],
   "source": [
    "df.loc[0]"
   ]
  },
  {
   "cell_type": "code",
   "execution_count": 19,
   "metadata": {},
   "outputs": [],
   "source": [
    "#pd.to_datetime(df.OFFENSE_DATE)"
   ]
  },
  {
   "cell_type": "code",
   "execution_count": 20,
   "metadata": {},
   "outputs": [],
   "source": [
    "df.OFFENSE_DATE = pd.to_datetime(df.OFFENSE_DATE)"
   ]
  },
  {
   "cell_type": "code",
   "execution_count": 21,
   "metadata": {},
   "outputs": [],
   "source": [
    "#df.OFFENSE_DATE.dt.year #to isolate the year"
   ]
  },
  {
   "cell_type": "code",
   "execution_count": 22,
   "metadata": {},
   "outputs": [
    {
     "data": {
      "text/html": [
       "<div>\n",
       "<style scoped>\n",
       "    .dataframe tbody tr th:only-of-type {\n",
       "        vertical-align: middle;\n",
       "    }\n",
       "\n",
       "    .dataframe tbody tr th {\n",
       "        vertical-align: top;\n",
       "    }\n",
       "\n",
       "    .dataframe thead th {\n",
       "        text-align: right;\n",
       "    }\n",
       "</style>\n",
       "<table border=\"1\" class=\"dataframe\">\n",
       "  <thead>\n",
       "    <tr style=\"text-align: right;\">\n",
       "      <th></th>\n",
       "      <th>OFFENSE_DATE</th>\n",
       "      <th>OFFENSE_TIME</th>\n",
       "      <th>CALLTYPE_CODE</th>\n",
       "      <th>CALL_TYPE</th>\n",
       "    </tr>\n",
       "  </thead>\n",
       "  <tbody>\n",
       "    <tr>\n",
       "      <td>0</td>\n",
       "      <td>2019-01-11</td>\n",
       "      <td>13:43:45</td>\n",
       "      <td>415A</td>\n",
       "      <td>DISTURBANCE, FIGHT</td>\n",
       "    </tr>\n",
       "    <tr>\n",
       "      <td>1</td>\n",
       "      <td>2019-01-11</td>\n",
       "      <td>14:18:48</td>\n",
       "      <td>422</td>\n",
       "      <td>CRIMINAL THREATS</td>\n",
       "    </tr>\n",
       "    <tr>\n",
       "      <td>2</td>\n",
       "      <td>2019-01-11</td>\n",
       "      <td>15:28:38</td>\n",
       "      <td>484</td>\n",
       "      <td>THEFT</td>\n",
       "    </tr>\n",
       "    <tr>\n",
       "      <td>3</td>\n",
       "      <td>2019-01-11</td>\n",
       "      <td>16:58:10</td>\n",
       "      <td>415W</td>\n",
       "      <td>DISTURBANCE, WEAPON</td>\n",
       "    </tr>\n",
       "    <tr>\n",
       "      <td>4</td>\n",
       "      <td>2019-01-11</td>\n",
       "      <td>16:30:37</td>\n",
       "      <td>415</td>\n",
       "      <td>DISTURBANCE</td>\n",
       "    </tr>\n",
       "  </tbody>\n",
       "</table>\n",
       "</div>"
      ],
      "text/plain": [
       "  OFFENSE_DATE OFFENSE_TIME CALLTYPE_CODE            CALL_TYPE\n",
       "0   2019-01-11     13:43:45          415A   DISTURBANCE, FIGHT\n",
       "1   2019-01-11     14:18:48           422     CRIMINAL THREATS\n",
       "2   2019-01-11     15:28:38           484                THEFT\n",
       "3   2019-01-11     16:58:10          415W  DISTURBANCE, WEAPON\n",
       "4   2019-01-11     16:30:37           415          DISTURBANCE"
      ]
     },
     "execution_count": 22,
     "metadata": {},
     "output_type": "execute_result"
    }
   ],
   "source": [
    "df.head()"
   ]
  },
  {
   "cell_type": "code",
   "execution_count": 23,
   "metadata": {},
   "outputs": [
    {
     "data": {
      "text/plain": [
       "Index(['OFFENSE_DATE', 'OFFENSE_TIME', 'CALLTYPE_CODE', 'CALL_TYPE'], dtype='object')"
      ]
     },
     "execution_count": 23,
     "metadata": {},
     "output_type": "execute_result"
    }
   ],
   "source": [
    "df.columns"
   ]
  },
  {
   "cell_type": "code",
   "execution_count": 24,
   "metadata": {},
   "outputs": [
    {
     "data": {
      "text/plain": [
       "415       28777\n",
       "1195      25725\n",
       "1033A     23676\n",
       "WELCK     18770\n",
       "22500     18728\n",
       "1154      12644\n",
       "415F      10329\n",
       "1066       8355\n",
       "1095       7582\n",
       "911UNK     7565\n",
       "415M       6904\n",
       "10851      6829\n",
       "SUSCIR     6782\n",
       "23103      5966\n",
       "602PC      5695\n",
       "Name: CALLTYPE_CODE, dtype: int64"
      ]
     },
     "execution_count": 24,
     "metadata": {},
     "output_type": "execute_result"
    }
   ],
   "source": [
    "df['CALLTYPE_CODE'].value_counts().iloc[:15]"
   ]
  },
  {
   "cell_type": "code",
   "execution_count": 25,
   "metadata": {},
   "outputs": [],
   "source": [
    "order_data = df['CALLTYPE_CODE'].value_counts().iloc[:15].index"
   ]
  },
  {
   "cell_type": "code",
   "execution_count": 26,
   "metadata": {},
   "outputs": [
    {
     "data": {
      "text/plain": [
       "<matplotlib.axes._subplots.AxesSubplot at 0x119d66bd0>"
      ]
     },
     "execution_count": 26,
     "metadata": {},
     "output_type": "execute_result"
    },
    {
     "data": {
      "image/png": "[encoded data removed]",
      "text/plain": [
       "<Figure size 1080x720 with 1 Axes>"
      ]
     },
     "metadata": {
      "needs_background": "light"
     },
     "output_type": "display_data"
    }
   ],
   "source": [
    "plt.figure(figsize = (15,10))\n",
    "sns.countplot(y = 'CALLTYPE_CODE', data = df, order = order_data)"
   ]
  },
  {
   "cell_type": "code",
   "execution_count": null,
   "metadata": {},
   "outputs": [],
   "source": []
  }
 ],
 "metadata": {
  "kernelspec": {
   "display_name": "Python 3",
   "language": "python",
   "name": "python3"
  },
  "language_info": {
   "codemirror_mode": {
    "name": "ipython",
    "version": 3
   },
   "file_extension": ".py",
   "mimetype": "text/x-python",
   "name": "python",
   "nbconvert_exporter": "python",
   "pygments_lexer": "ipython3",
   "version": "3.7.4"
  }
 },
 "nbformat": 4,
 "nbformat_minor": 2
}
